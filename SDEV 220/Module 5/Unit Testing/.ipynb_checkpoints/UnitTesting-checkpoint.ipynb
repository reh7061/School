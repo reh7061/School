{
 "cells": [
  {
   "cell_type": "markdown",
   "id": "75bef34a-85d2-4076-b927-98f1b56ae207",
   "metadata": {},
   "source": [
    "## Unit Testing"
   ]
  },
  {
   "cell_type": "markdown",
   "id": "d10348de-3ea5-4ff5-87ce-263e49f7d960",
   "metadata": {},
   "source": [
    "**Output:**\n",
    "```bash\n",
    ".F.\n",
    "======================================================================\n",
    "FAIL: test_list_fraction (__main__.TestSum.test_list_fraction)\n",
    "----------------------------------------------------------------------\n",
    "Traceback (most recent call last):\n",
    "    self.assertEqual(result, 1)\n",
    "    ~~~~~~~~~~~~~~~~^^^^^^^^^^^\n",
    "AssertionError: Fraction(9, 10) != 1\n",
    "\n",
    "----------------------------------------------------------------------\n",
    "Ran 3 tests in 0.003s\n",
    "\n",
    "FAILED (failures=1)\n",
    "```"
   ]
  },
  {
   "cell_type": "markdown",
   "id": "cf954007-de05-4701-81f5-a9110c119645",
   "metadata": {},
   "source": [
    "The output .F. means:\n",
    "\n",
    "The first dot (.) indicates that test_list_int (the first test executed) passed.\n",
    "\n",
    "The F indicates that test_list_fraction (the second test executed) failed.\n",
    "\n",
    "The third dot (.) indicates that test_bad_type (the third test executed) passed.\n",
    "\n",
    "The following detailed output explains why test_list_fraction failed, as shown from the AssertionError: Fraction(9, 10) != 1. This is what the tutorial describes as an intentional failure to demonstrate how errors are reported."
   ]
  }
 ],
 "metadata": {
  "kernelspec": {
   "display_name": "Python 3 (ipykernel)",
   "language": "python",
   "name": "python3"
  },
  "language_info": {
   "codemirror_mode": {
    "name": "ipython",
    "version": 3
   },
   "file_extension": ".py",
   "mimetype": "text/x-python",
   "name": "python",
   "nbconvert_exporter": "python",
   "pygments_lexer": "ipython3",
   "version": "3.13.1"
  }
 },
 "nbformat": 4,
 "nbformat_minor": 5
}
