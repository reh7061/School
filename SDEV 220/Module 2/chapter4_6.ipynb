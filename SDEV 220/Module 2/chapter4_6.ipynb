{
 "cells": [
  {
   "cell_type": "markdown",
   "id": "3a2aea3d-7bb1-4502-9713-e87898822c23",
   "metadata": {},
   "source": [
    "## Chapter 4 & 6 (4.1-4.2, 6.1-6.3)"
   ]
  },
  {
   "cell_type": "markdown",
   "id": "ef431765-eda5-4a62-a9ea-50df5238c5c2",
   "metadata": {},
   "source": [
    "### 4.1 Choose a number between 1 and 10"
   ]
  },
  {
   "cell_type": "code",
   "execution_count": 4,
   "id": "803da3e1-e355-42f1-aaa8-2f065ef486e4",
   "metadata": {},
   "outputs": [
    {
     "name": "stdout",
     "output_type": "stream",
     "text": [
      "just right\n"
     ]
    }
   ],
   "source": [
    "# 4.1\n",
    "secret = 1\n",
    "guess = 1\n",
    "\n",
    "if guess < secret:\n",
    "    print(\"too low\")\n",
    "elif guess > secret:\n",
    "    print(\"too high\")\n",
    "else:\n",
    "    print(\"just right\")"
   ]
  },
  {
   "cell_type": "markdown",
   "id": "db37f836-ef7a-47c0-9899-ca69f5600e9e",
   "metadata": {},
   "source": [
    "### 4.2 Which Matches: cherry, pea, watermelon, pumpkin."
   ]
  },
  {
   "cell_type": "code",
   "execution_count": 7,
   "id": "7b2d09c9-f3bc-4902-aae0-836e40b001bd",
   "metadata": {},
   "outputs": [
    {
     "name": "stdout",
     "output_type": "stream",
     "text": [
      "watermelon\n"
     ]
    }
   ],
   "source": [
    "# 4.2\n",
    "small = False\n",
    "green = True\n",
    "\n",
    "if green:\n",
    "    # It’s green: could be pea or watermelon\n",
    "    if small:\n",
    "        print(\"pea\")\n",
    "    else:\n",
    "        print(\"watermelon\")\n",
    "else:\n",
    "    # Not green: could be cherry or pumpkin\n",
    "    if small:\n",
    "        print(\"cherry\")\n",
    "    else:\n",
    "        print(\"pumpkin\")"
   ]
  },
  {
   "cell_type": "markdown",
   "id": "299bea72-b1d9-4324-8c96-f212c7675400",
   "metadata": {},
   "source": [
    "### 6.1 Print A List "
   ]
  },
  {
   "cell_type": "code",
   "execution_count": 8,
   "id": "bb808291-4d62-465c-8f64-4ebd912c583f",
   "metadata": {},
   "outputs": [
    {
     "name": "stdout",
     "output_type": "stream",
     "text": [
      "3\n",
      "2\n",
      "1\n",
      "0\n"
     ]
    }
   ],
   "source": [
    "for value in [3, 2, 1, 0]:\n",
    "    print(value)"
   ]
  },
  {
   "cell_type": "markdown",
   "id": "a5f1445c-ec7f-4f4e-8d6b-5179df8254f9",
   "metadata": {},
   "source": [
    "### 6.2 - Guess Me (While Loop)"
   ]
  },
  {
   "cell_type": "code",
   "execution_count": 16,
   "id": "55586e41-4c51-45f9-8cea-b25a569b7ff4",
   "metadata": {},
   "outputs": [
    {
     "name": "stdout",
     "output_type": "stream",
     "text": [
      "too low\n",
      "too low\n",
      "too low\n",
      "too low\n",
      "too low\n",
      "found it!\n"
     ]
    }
   ],
   "source": [
    "guess_me = 5\n",
    "number   = 0\n",
    "\n",
    "while number <= guess_me:\n",
    "    if number < guess_me:\n",
    "        print(\"too low\")\n",
    "    else:  # number == guess_me\n",
    "        print(\"found it!\")\n",
    "        break\n",
    "    number += 1\n",
    "else:\n",
    "    # only runs if the while condition becomes False\n",
    "    print(\"oops\")"
   ]
  },
  {
   "cell_type": "markdown",
   "id": "0cc91839-8412-4c39-9022-7ed4ee3d6ad5",
   "metadata": {},
   "source": [
    "### 6.3 Guess Me (For Loop)"
   ]
  },
  {
   "cell_type": "code",
   "execution_count": 11,
   "id": "f2307197-9421-454c-bb26-e30d48e56d6b",
   "metadata": {},
   "outputs": [
    {
     "name": "stdout",
     "output_type": "stream",
     "text": [
      "too low\n",
      "too low\n",
      "too low\n",
      "too low\n",
      "too low\n",
      "found it!\n"
     ]
    }
   ],
   "source": [
    "guess_me = 5\n",
    "\n",
    "for number in range(10):\n",
    "    if number < guess_me:\n",
    "        print(\"too low\")\n",
    "    elif number == guess_me:\n",
    "        print(\"found it!\")\n",
    "        break\n",
    "    else:  # number > guess_me\n",
    "        print(\"oops\")\n",
    "        break"
   ]
  }
 ],
 "metadata": {
  "kernelspec": {
   "display_name": "Python 3 (ipykernel)",
   "language": "python",
   "name": "python3"
  },
  "language_info": {
   "codemirror_mode": {
    "name": "ipython",
    "version": 3
   },
   "file_extension": ".py",
   "mimetype": "text/x-python",
   "name": "python",
   "nbconvert_exporter": "python",
   "pygments_lexer": "ipython3",
   "version": "3.13.1"
  }
 },
 "nbformat": 4,
 "nbformat_minor": 5
}
