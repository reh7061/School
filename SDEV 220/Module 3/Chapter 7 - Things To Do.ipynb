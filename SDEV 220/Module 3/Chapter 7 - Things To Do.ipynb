{
 "cells": [
  {
   "cell_type": "markdown",
   "id": "83d0c903-c1c9-4bf6-88d2-4d5c4d3ff09e",
   "metadata": {},
   "source": [
    "## Chapter 7 & 9 - Things to Do (7.4-7.7) & (9.1-9.2)"
   ]
  },
  {
   "cell_type": "markdown",
   "id": "8948e7d7-1e77-4604-abce-4cdf3991e1d1",
   "metadata": {},
   "source": [
    "### 7.4 - List Called \"Things\""
   ]
  },
  {
   "cell_type": "code",
   "execution_count": 23,
   "id": "af0c16df-b214-45a6-8513-48d928e3d940",
   "metadata": {},
   "outputs": [
    {
     "name": "stdout",
     "output_type": "stream",
     "text": [
      "['mozzarella', 'cinderella', 'salmonella']\n"
     ]
    }
   ],
   "source": [
    "things = [\"mozzarella\", \"cinderella\", \"salmonella\"]\n",
    "print(things)"
   ]
  },
  {
   "cell_type": "markdown",
   "id": "54f73d1c-67b6-469f-b3e4-855747b477d5",
   "metadata": {},
   "source": [
    "### 7.5 - Capitalize A Person, Did it change the element?"
   ]
  },
  {
   "cell_type": "code",
   "execution_count": 7,
   "id": "368c299d-5968-47d0-8ce2-a6bc4044a299",
   "metadata": {},
   "outputs": [
    {
     "name": "stdout",
     "output_type": "stream",
     "text": [
      "Cinderella\n",
      "['mozzarella', 'cinderella', 'salmonella']\n"
     ]
    }
   ],
   "source": [
    "print(things[1].capitalize())\n",
    "print(things)"
   ]
  },
  {
   "cell_type": "markdown",
   "id": "5d75f3ef-2bd6-4b23-8790-7cb80cf3199a",
   "metadata": {},
   "source": [
    "No, calling capitalize() returned a new string, however it did not modify the item in the original list since it did not assign it to the list"
   ]
  },
  {
   "cell_type": "markdown",
   "id": "b10c1fd7-fbf5-47cc-8594-a0c26f3b833a",
   "metadata": {},
   "source": [
    "### 7.6 - Make Cheesey Uppercase"
   ]
  },
  {
   "cell_type": "code",
   "execution_count": 24,
   "id": "7ce8594a-4c4a-414e-a286-755e4af05889",
   "metadata": {},
   "outputs": [
    {
     "name": "stdout",
     "output_type": "stream",
     "text": [
      "['MOZZARELLA', 'cinderella', 'salmonella']\n"
     ]
    }
   ],
   "source": [
    "things[0] = things[0].upper()\n",
    "print(things)"
   ]
  },
  {
   "cell_type": "markdown",
   "id": "144ee240-bd85-4a75-ad7f-81355413ea0f",
   "metadata": {},
   "source": [
    "### 7.7 - Delete Disease Element"
   ]
  },
  {
   "cell_type": "code",
   "execution_count": 25,
   "id": "96a2ebfa-3dd4-45d7-befb-81de02dae2f1",
   "metadata": {},
   "outputs": [
    {
     "name": "stdout",
     "output_type": "stream",
     "text": [
      "['MOZZARELLA', 'cinderella']\n"
     ]
    }
   ],
   "source": [
    "things.remove('salmonella')\n",
    "print(things)"
   ]
  },
  {
   "cell_type": "markdown",
   "id": "98ac3306-2d83-4038-afd8-edec8ee567c1",
   "metadata": {},
   "source": [
    "## 9.1 - A Function Called \"Good\""
   ]
  },
  {
   "cell_type": "code",
   "execution_count": 27,
   "id": "651a97ec-f870-4c23-b7c8-22d5ec24b1a2",
   "metadata": {},
   "outputs": [
    {
     "name": "stdout",
     "output_type": "stream",
     "text": [
      "['Harry', 'Ron', 'Hermione']\n"
     ]
    }
   ],
   "source": [
    "def good():\n",
    "    return ['Harry', 'Ron', 'Hermione']\n",
    "print(good())"
   ]
  },
  {
   "cell_type": "markdown",
   "id": "a99e2f56-b6ff-4531-8453-29428b65c26a",
   "metadata": {},
   "source": [
    "### 9.2 - Generator Function get_odds()"
   ]
  },
  {
   "cell_type": "code",
   "execution_count": 31,
   "id": "5420f10d-647f-486a-817d-058f4277ae39",
   "metadata": {},
   "outputs": [
    {
     "name": "stdout",
     "output_type": "stream",
     "text": [
      "The third odd num: 5\n"
     ]
    }
   ],
   "source": [
    "def get_odds():\n",
    "    for number in range(10):\n",
    "        if number % 2 != 0:\n",
    "            yield number\n",
    "odds = get_odds()\n",
    "count = 0\n",
    "\n",
    "for num in odds:\n",
    "    count += 1\n",
    "    if count == 3:\n",
    "        print(f\"The third odd num:\", num)\n",
    "        break"
   ]
  }
 ],
 "metadata": {
  "kernelspec": {
   "display_name": "Python 3 (ipykernel)",
   "language": "python",
   "name": "python3"
  },
  "language_info": {
   "codemirror_mode": {
    "name": "ipython",
    "version": 3
   },
   "file_extension": ".py",
   "mimetype": "text/x-python",
   "name": "python",
   "nbconvert_exporter": "python",
   "pygments_lexer": "ipython3",
   "version": "3.13.1"
  }
 },
 "nbformat": 4,
 "nbformat_minor": 5
}
