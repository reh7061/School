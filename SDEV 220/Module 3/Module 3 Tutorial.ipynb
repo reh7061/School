{
 "cells": [
  {
   "cell_type": "markdown",
   "id": "abab5f59-8f49-4c4c-ad7d-2dca7b2f880f",
   "metadata": {},
   "source": [
    "## Sort an Array of 0s, 1s, and 2s"
   ]
  },
  {
   "cell_type": "code",
   "execution_count": 3,
   "id": "0417c61f-8631-444e-8c7a-39c8edf1bec9",
   "metadata": {},
   "outputs": [
    {
     "name": "stdout",
     "output_type": "stream",
     "text": [
      "[0, 0, 0, 0, 0, 1, 1, 1, 1, 1, 2, 2]\n"
     ]
    }
   ],
   "source": [
    "class Solution:\n",
    "    # Function to sort an array of 0s, 1s, 2s\n",
    "    def sort012(self, arr):\n",
    "        # Strategy: Split the array into three regions:\n",
    "        # [0s ... | 1s ... | 2s ...]\n",
    "        # We move through the array maintaining boundaries for 0s and 2s.\n",
    "        low = 0            # Marks the end of the 0s region\n",
    "        mid = 0            # Current element\n",
    "        high = len(arr) - 1   # Marks the beginning of the 2s region\n",
    "\n",
    "        # We stop when mid crosses high because elements beyond high are already sorted as 2s\n",
    "        while mid <= high:\n",
    "            if arr[mid] == 0:\n",
    "                # If the current element is 0, swap it with the element at 'low'\n",
    "                # Then move both 'low' and 'mid' forward\n",
    "                arr[low], arr[mid] = arr[mid], arr[low]\n",
    "                low += 1\n",
    "                mid += 1\n",
    "            elif arr[mid] == 1:\n",
    "                # If the current element is 1, it's already in the right place\n",
    "                # 1s belong in the middle region, which starts after all 0s and before any 2s.\n",
    "                # Just move 'mid' forward\n",
    "                mid += 1\n",
    "            else:  # arr[mid] == 2\n",
    "                # If the current element is 2, swap it with the element at 'high'\n",
    "                # No increment of 'mid' because the new element at `mid` \n",
    "                # might be a 0 or 1 and needs to be examined.\n",
    "                arr[mid], arr[high] = arr[high], arr[mid]\n",
    "                high -= 1\n",
    "\n",
    "arr = [0, 1, 1, 0, 1, 2, 1, 2, 0, 0, 0, 1]\n",
    "Solution().sort012(arr)\n",
    "print(arr)"
   ]
  },
  {
   "cell_type": "markdown",
   "id": "8bd5e36d-0442-4ab1-9b72-7b1be5d226fc",
   "metadata": {},
   "source": [
    "## Binary Search"
   ]
  },
  {
   "cell_type": "code",
   "execution_count": 5,
   "id": "8396e13d-e2c5-408f-a9e0-5e7121b4c455",
   "metadata": {},
   "outputs": [
    {
     "name": "stdout",
     "output_type": "stream",
     "text": [
      "3\n",
      "-1\n",
      "0\n"
     ]
    }
   ],
   "source": [
    "class Solution:\n",
    "    # Function to find the smallest index of k in a sorted array\n",
    "    def binarysearch(self, arr, k):\n",
    "        low = 0\n",
    "        high = len(arr) - 1\n",
    "        result = -1  # Default result if none found\n",
    "        # We continue as long as there's a valid search range\n",
    "        while low <= high:\n",
    "            mid = (low + high) // 2 # Middle index of current search window\n",
    "\n",
    "            if arr[mid] == k:\n",
    "                # We found k at mid, but there may be another k to the left.\n",
    "                # Record this as a potential result\n",
    "                result = mid\n",
    "                # Continue searching the left half\n",
    "                high = mid - 1\n",
    "\n",
    "            elif arr[mid] < k:\n",
    "                # All elements before mid (including mid) are too small.\n",
    "                # So we move the search to the right half.\n",
    "                low = mid + 1\n",
    "\n",
    "            else:  # arr[mid] > k\n",
    "                # arr[mid] > k, so the target must be in the left half.\n",
    "                high = mid - 1\n",
    "\n",
    "        # If we ever saw k, result holds its first occurrence; else remains default of -1\n",
    "        return result\n",
    "        \n",
    "sol = Solution()\n",
    "print(sol.binarysearch([1, 2, 3, 4, 5], 4))      # 3\n",
    "print(sol.binarysearch([11, 22, 33, 44, 55], 445))  # -1\n",
    "print(sol.binarysearch([1, 1, 1, 1, 2], 1))       # 0"
   ]
  }
 ],
 "metadata": {
  "kernelspec": {
   "display_name": "Python 3 (ipykernel)",
   "language": "python",
   "name": "python3"
  },
  "language_info": {
   "codemirror_mode": {
    "name": "ipython",
    "version": 3
   },
   "file_extension": ".py",
   "mimetype": "text/x-python",
   "name": "python",
   "nbconvert_exporter": "python",
   "pygments_lexer": "ipython3",
   "version": "3.13.1"
  }
 },
 "nbformat": 4,
 "nbformat_minor": 5
}
