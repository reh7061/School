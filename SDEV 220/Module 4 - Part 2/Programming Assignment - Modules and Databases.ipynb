{
 "cells": [
  {
   "cell_type": "markdown",
   "id": "d59ebe83-f76f-49ce-a8e8-5fa412ed1504",
   "metadata": {},
   "source": [
    "## Chapter 11 & 16 - Things To Do"
   ]
  },
  {
   "cell_type": "markdown",
   "id": "0726ae4f-d5ef-4307-bcb1-c396b73ba691",
   "metadata": {},
   "source": [
    "### 11.1 - zoo.py"
   ]
  },
  {
   "cell_type": "code",
   "execution_count": 7,
   "id": "9b9cb602-0c2b-41d5-8090-d1728d39a64c",
   "metadata": {},
   "outputs": [
    {
     "name": "stdout",
     "output_type": "stream",
     "text": [
      "Open 9-5 daily\n"
     ]
    }
   ],
   "source": [
    "import zoo\n",
    "zoo.hours()"
   ]
  },
  {
   "cell_type": "markdown",
   "id": "eff3198e-d300-4cae-914b-35f38065277d",
   "metadata": {},
   "source": [
    "### 11.2 menagerie"
   ]
  },
  {
   "cell_type": "code",
   "execution_count": 10,
   "id": "a43eb3bd-4360-41c0-91d8-4cfa1020cae3",
   "metadata": {},
   "outputs": [
    {
     "name": "stdout",
     "output_type": "stream",
     "text": [
      "Open 9-5 daily\n"
     ]
    }
   ],
   "source": [
    "import zoo as menagerie\n",
    "menagerie.hours()"
   ]
  },
  {
   "cell_type": "markdown",
   "id": "0d27aa6b-29a7-41c1-acc5-94c7de421fd3",
   "metadata": {},
   "source": [
    "### 16.8 - sqlalchemy"
   ]
  },
  {
   "cell_type": "code",
   "execution_count": 1,
   "id": "452d8a94-a02f-48db-a6a1-6255780df2ec",
   "metadata": {},
   "outputs": [
    {
     "name": "stdout",
     "output_type": "stream",
     "text": [
      "\n",
      "16.8 – Titles in alphabetical order:\n",
      "   Perdido Street Station\n",
      "   Small Gods\n",
      "   The Spellman Files\n",
      "   The Weirdstone of Brisingamen\n",
      "   Thud!\n"
     ]
    }
   ],
   "source": [
    "%run sqlalcamy_test.py"
   ]
  }
 ],
 "metadata": {
  "kernelspec": {
   "display_name": "Python 3",
   "language": "python",
   "name": "python3"
  },
  "language_info": {
   "codemirror_mode": {
    "name": "ipython",
    "version": 3
   },
   "file_extension": ".py",
   "mimetype": "text/x-python",
   "name": "python",
   "nbconvert_exporter": "python",
   "pygments_lexer": "ipython3",
   "version": "3.12.5"
  }
 },
 "nbformat": 4,
 "nbformat_minor": 5
}
