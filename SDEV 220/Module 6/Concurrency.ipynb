{
 "cells": [
  {
   "cell_type": "markdown",
   "id": "60e0ced1-abdf-4e68-bd7d-cc93f09b2748",
   "metadata": {},
   "source": [
    "## Chapter 13 & 15 - Things To Do"
   ]
  },
  {
   "cell_type": "markdown",
   "id": "42cc71a3-51d3-44ae-9662-583616d7c850",
   "metadata": {},
   "source": [
    "### 13.1 - Write the current date as a string to the text file today.txt"
   ]
  },
  {
   "cell_type": "code",
   "execution_count": 10,
   "id": "8c55add6-1f1a-4807-ab4b-f78498dfd443",
   "metadata": {},
   "outputs": [
    {
     "name": "stdout",
     "output_type": "stream",
     "text": [
      "Successfully wrote '2025-07-16' to today.txt\n"
     ]
    }
   ],
   "source": [
    "import datetime\n",
    "today = datetime.date.today()\n",
    "date_string_to_write = today.isoformat()\n",
    "\n",
    "# Open the file in write mode and write the string\n",
    "try:\n",
    "    with open('today.txt', 'w') as file:\n",
    "        file.write(date_string_to_write)\n",
    "    print(f\"Successfully wrote '{date_string_to_write}' to today.txt\")\n",
    "except IOError as e:\n",
    "    print(f\"Error writing to file: {e}\")"
   ]
  },
  {
   "cell_type": "markdown",
   "id": "f11c5955-9a71-484a-bfcd-50b488d3e1ad",
   "metadata": {},
   "source": [
    "### 13.2 - Read the text file today.txt into the string today_string."
   ]
  },
  {
   "cell_type": "code",
   "execution_count": 9,
   "id": "8e167564-9c5d-493d-ae31-8f7d93cf0ed5",
   "metadata": {},
   "outputs": [
    {
     "name": "stdout",
     "output_type": "stream",
     "text": [
      "The variable 'today_string' holds: '2025-07-16'\n"
     ]
    }
   ],
   "source": [
    "today_string = \"\"\n",
    "try:\n",
    "    with open('today.txt', 'r') as file:\n",
    "        today_string = file.read()\n",
    "    print(f\"The variable 'today_string' holds: '{today_string}'\")\n",
    "except FileNotFoundError:\n",
    "    print(\"Error: today.txt not found.\")"
   ]
  },
  {
   "cell_type": "markdown",
   "id": "6b4aab3f-a709-4c88-8d62-2e2515379ea1",
   "metadata": {},
   "source": [
    "### 13.3: Parse the date from the string"
   ]
  },
  {
   "cell_type": "code",
   "execution_count": 12,
   "id": "e2fa1dc2-bfe3-4f76-aead-56126deccd9a",
   "metadata": {},
   "outputs": [
    {
     "name": "stdout",
     "output_type": "stream",
     "text": [
      "Parsed date object: 2025-07-16\n",
      "Year: 2025, Month: 7, Day: 16\n"
     ]
    }
   ],
   "source": [
    "if today_string:\n",
    "    try:\n",
    "        # Use strptime to parse the string back into a date object\n",
    "        parsed_date = datetime.datetime.strptime(today_string, '%Y-%m-%d').date()\n",
    "\n",
    "        print(f\"Parsed date object: {parsed_date}\")\n",
    "        print(f\"Year: {parsed_date.year}, Month: {parsed_date.month}, Day: {parsed_date.day}\")\n",
    "    except ValueError:\n",
    "        print(f\"Error: The string '{today_string}' does not match the format 'YYYY-MM-DD'.\")\n",
    "else:\n",
    "    print(\"Could not parse the date because the string is empty.\")"
   ]
  },
  {
   "cell_type": "markdown",
   "id": "3eca24db-f56f-4b81-a698-87d13a5e9396",
   "metadata": {},
   "source": [
    "## 15.1 - 3 processes using multiprocessing"
   ]
  },
  {
   "cell_type": "code",
   "execution_count": 34,
   "id": "7d3870d6-b283-4de2-8536-808d6af1f5df",
   "metadata": {},
   "outputs": [
    {
     "name": "stdout",
     "output_type": "stream",
     "text": [
      "Starting processes...\n",
      "Main program is waiting for processes to finish...\n",
      "All processes have finished.\n"
     ]
    }
   ],
   "source": [
    "import time\n",
    "import datetime\n",
    "import random\n",
    "import multiprocessing\n",
    "\n",
    "def show_time():\n",
    "    wait_time = random.random()\n",
    "    time.sleep(wait_time)\n",
    "    \n",
    "    current_time = datetime.datetime.now().utcnow()\n",
    "    process_name = multiprocessing.current_process().name\n",
    "    \n",
    "    print(f\"{process_name} finished after {wait_time:.2f} seconds. Time: {current_time}\")\n",
    "\n",
    "if __name__ == '__main__':\n",
    "    processes = []\n",
    "    \n",
    "    print(\"Starting processes...\")\n",
    "    for i in range(3):\n",
    "        process = multiprocessing.Process(target=show_time, name=f'Process-{i+1}')\n",
    "        processes.append(process)\n",
    "        process.start()\n",
    "    \n",
    "    print(\"Main program is waiting for processes to finish...\")\n",
    "    for process in processes:\n",
    "        process.join()\n",
    "    \n",
    "    print(\"All processes have finished.\")"
   ]
  },
  {
   "cell_type": "markdown",
   "id": "bac9335a-179b-48d9-b8d2-2197f92ba933",
   "metadata": {},
   "source": [
    "Don't know why it doesnt show the time output inside Juypter.\n",
    "```python\n",
    "Process-2 finished after 0.49 seconds. Time: 2025-07-16 21:48:02.182928\n",
    "Process-1 finished after 0.71 seconds. Time: 2025-07-16 21:48:02.390644\n",
    "Process-3 finished after 0.88 seconds. Time: 2025-07-16 21:48:02.577737\n",
    "```"
   ]
  }
 ],
 "metadata": {
  "kernelspec": {
   "display_name": "Python 3 (ipykernel)",
   "language": "python",
   "name": "python3"
  },
  "language_info": {
   "codemirror_mode": {
    "name": "ipython",
    "version": 3
   },
   "file_extension": ".py",
   "mimetype": "text/x-python",
   "name": "python",
   "nbconvert_exporter": "python",
   "pygments_lexer": "ipython3",
   "version": "3.13.1"
  }
 },
 "nbformat": 4,
 "nbformat_minor": 5
}
