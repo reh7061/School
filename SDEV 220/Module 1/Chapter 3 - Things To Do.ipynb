{
 "cells": [
  {
   "cell_type": "markdown",
   "id": "8262b904-0d92-47ee-9e48-78f3cccb43b8",
   "metadata": {},
   "source": [
    "# Chapter 3 - Sections 3.1 - 3.6"
   ]
  },
  {
   "cell_type": "code",
   "execution_count": 15,
   "id": "64def7e1-7a1f-4254-98fa-cd9a27f2b643",
   "metadata": {},
   "outputs": [
    {
     "name": "stdout",
     "output_type": "stream",
     "text": [
      "3600\n"
     ]
    }
   ],
   "source": [
    "# 3.1 How many seconds are in an hour?\n",
    "# Use the interactive interpreter as a calculator and multiply the number of seconds in a minute (60) by the number of minutes in an hour (also 60).\n",
    "print(60 * 60)"
   ]
  },
  {
   "cell_type": "code",
   "execution_count": 14,
   "id": "caf669da-76f8-4d59-b8be-51d6e99b698c",
   "metadata": {},
   "outputs": [],
   "source": [
    "# 3.2 Assign the result from the previous task (seconds in an hour) to a variable called `seconds_per_hour`.\n",
    "seconds_per_hour = 60 * 60"
   ]
  },
  {
   "cell_type": "code",
   "execution_count": 7,
   "id": "1213304d-d01f-42f3-98b2-13fc559c55dd",
   "metadata": {},
   "outputs": [
    {
     "name": "stdout",
     "output_type": "stream",
     "text": [
      "86400\n"
     ]
    }
   ],
   "source": [
    "# 3.3 How many seconds are in a day?\n",
    "# Use your `seconds_per_hour` variable.\n",
    "print(seconds_per_hour * 24)"
   ]
  },
  {
   "cell_type": "code",
   "execution_count": 8,
   "id": "f66b5d2a-ef6b-41b8-9765-c14387a66885",
   "metadata": {},
   "outputs": [
    {
     "name": "stdout",
     "output_type": "stream",
     "text": [
      "86400\n"
     ]
    }
   ],
   "source": [
    "# 3.4 Calculate seconds per day again, but this time save the result in a variable called `seconds_per_day`.\n",
    "seconds_per_day = seconds_per_hour * 24\n",
    "print(seconds_per_day)"
   ]
  },
  {
   "cell_type": "code",
   "execution_count": 13,
   "id": "3185d1db-31a9-4a34-ad88-9e8d910fa7cb",
   "metadata": {},
   "outputs": [
    {
     "name": "stdout",
     "output_type": "stream",
     "text": [
      "24.0\n"
     ]
    }
   ],
   "source": [
    "#3.5 Divide `seconds_per_day` by `seconds_per_hour`. Use floating-point (`/`) division.\n",
    "print(seconds_per_day / seconds_per_hour)\n"
   ]
  },
  {
   "cell_type": "code",
   "execution_count": 12,
   "id": "e1508dc3-9fe5-4ee2-8e0b-e17df0ead459",
   "metadata": {},
   "outputs": [
    {
     "name": "stdout",
     "output_type": "stream",
     "text": [
      "24\n"
     ]
    }
   ],
   "source": [
    "# 3.6 Divide `seconds_per_day` by `seconds_per_hour`, using integer (`//`) division.\n",
    "print(seconds_per_day // seconds_per_hour)"
   ]
  },
  {
   "cell_type": "code",
   "execution_count": 17,
   "id": "838aa34b-b900-45e2-8562-01059698171a",
   "metadata": {},
   "outputs": [],
   "source": [
    "# Did this number agree with the floating-point value from the previous question, aside from the final `.0`?\n",
    "# Yes, it agrees with the floating-point value 24.0 since floor division returns in int.\n"
   ]
  }
 ],
 "metadata": {
  "kernelspec": {
   "display_name": "Python 3 (ipykernel)",
   "language": "python",
   "name": "python3"
  },
  "language_info": {
   "codemirror_mode": {
    "name": "ipython",
    "version": 3
   },
   "file_extension": ".py",
   "mimetype": "text/x-python",
   "name": "python",
   "nbconvert_exporter": "python",
   "pygments_lexer": "ipython3",
   "version": "3.13.1"
  }
 },
 "nbformat": 4,
 "nbformat_minor": 5
}
